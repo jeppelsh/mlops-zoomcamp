{
 "cells": [
  {
   "cell_type": "markdown",
   "id": "greek-french",
   "metadata": {},
   "source": [
    "## Q1. Install MLflow\n",
    "\n",
    "To get started with MLflow you'll need to install the MLflow Python package.\n",
    "\n",
    "For this we recommend creating a separate Python environment, for example, you can use [conda environments](https://docs.conda.io/projects/conda/en/latest/user-guide/getting-started.html#managing-envs), and then install the package there with `pip` or `conda`.\n",
    "\n",
    "Once you installed the package, run the command `mlflow --version` and check the output.\n",
    "\n",
    "What's the version that you have?"
   ]
  },
  {
   "cell_type": "code",
   "execution_count": 56,
   "id": "respective-jumping",
   "metadata": {},
   "outputs": [
    {
     "data": {
      "text/plain": [
       "'1.26.1'"
      ]
     },
     "execution_count": 56,
     "metadata": {},
     "output_type": "execute_result"
    }
   ],
   "source": [
    "import mlflow\n",
    "mlflow.__version__"
   ]
  },
  {
   "cell_type": "markdown",
   "id": "intensive-elimination",
   "metadata": {},
   "source": [
    "## Q2. Download and preprocess the data\n",
    "\n",
    "We'll use the Green Taxi Trip Records dataset. \n",
    "\n",
    "Download the data for January, February and March 2021 in parquet format from [here](https://www1.nyc.gov/site/tlc/about/tlc-trip-record-data.page).\n",
    "\n",
    "Use the script `preprocess_data.py` located in the folder [`homework`](https://github.com/DataTalksClub/mlops-zoomcamp/tree/main/02-experiment-tracking/homework) to preprocess the data.\n",
    "\n",
    "The script will\n",
    "\n",
    "- load the data from the folder `<TAXI_DATA_FOLDER>` (the folder where you have downloaded the data),\n",
    "- fit a `DictVectorizer` on the training set (January 2021 data),\n",
    "- save the preprocessed datasets and the model to disk\n",
    "\n",
    "Your task is to download the datasets and then execute this command:\n",
    "\n",
    "```\n",
    "python preprocess_data.py --raw_data_path <TAXI_DATA_FOLDER> --dest_path ./output\n",
    "```\n",
    "\n",
    "Tip: go to `02-experiment-tracking/homework/` folder before executing the command and change the value of `<TAXI_DATA_FOLDER>` to the location where you saved the data.\n",
    "\n",
    "How many files were saved to `OUTPUT_FOLDER`?"
   ]
  },
  {
   "cell_type": "code",
   "execution_count": 57,
   "id": "bibliographic-offset",
   "metadata": {},
   "outputs": [],
   "source": [
    "!python preprocess_data.py --raw_data_path ../data --dest_path ../data/output"
   ]
  },
  {
   "cell_type": "code",
   "execution_count": 58,
   "id": "meaning-river",
   "metadata": {},
   "outputs": [
    {
     "data": {
      "text/plain": [
       "4"
      ]
     },
     "execution_count": 58,
     "metadata": {},
     "output_type": "execute_result"
    }
   ],
   "source": [
    "import os\n",
    "\n",
    "_, _, files = next(os.walk(\"../data/output\"))\n",
    "len(files)"
   ]
  },
  {
   "cell_type": "markdown",
   "id": "several-devil",
   "metadata": {},
   "source": [
    "## Q3. Train a model with autolog\n",
    "\n",
    "We will train a random forest regressor (from Scikit-Learn) on the taxi dataset.\n",
    "\n",
    "We have prepared the training script `train.py` for this exercise, which can be also found in the folder `homework`. The script will load the datasets produced by the previous step, train the model on the training set and finally calculate the RMSE on the validation set.\n",
    "\n",
    "Your task is to modify the script to enable **autologging** with MLflow, execute the script and then launch the MLflow UI to check that the experiment run was properly tracked. \n",
    "\n",
    "Tip 1: don't forget to wrap the training code with a `with mlflow.start_run():` statement as we showed in the videos.\n",
    "\n",
    "Tip 2: don't modify the hyperparameters of the model to make sure that the training will finish quickly.\n",
    "\n",
    "How many parameters are automatically logged by MLflow?"
   ]
  },
  {
   "cell_type": "code",
   "execution_count": 59,
   "id": "arabic-region",
   "metadata": {},
   "outputs": [],
   "source": [
    "# Run script\n",
    "!python train.py --data_path ../data/output"
   ]
  },
  {
   "cell_type": "code",
   "execution_count": 60,
   "id": "institutional-credits",
   "metadata": {},
   "outputs": [
    {
     "name": "stdout",
     "output_type": "stream",
     "text": [
      "[2022-05-31 19:32:48 +0200] [70228] [INFO] Starting gunicorn 20.1.0\n",
      "[2022-05-31 19:32:48 +0200] [70228] [ERROR] Connection in use: ('127.0.0.1', 5000)\n",
      "[2022-05-31 19:32:48 +0200] [70228] [ERROR] Retrying in 1 second.\n",
      "[2022-05-31 19:32:49 +0200] [70228] [ERROR] Connection in use: ('127.0.0.1', 5000)\n",
      "[2022-05-31 19:32:49 +0200] [70228] [ERROR] Retrying in 1 second.\n",
      "[2022-05-31 19:32:50 +0200] [70228] [ERROR] Connection in use: ('127.0.0.1', 5000)\n",
      "[2022-05-31 19:32:50 +0200] [70228] [ERROR] Retrying in 1 second.\n",
      "[2022-05-31 19:32:51 +0200] [70228] [ERROR] Connection in use: ('127.0.0.1', 5000)\n",
      "[2022-05-31 19:32:51 +0200] [70228] [ERROR] Retrying in 1 second.\n",
      "[2022-05-31 19:32:52 +0200] [70228] [ERROR] Connection in use: ('127.0.0.1', 5000)\n",
      "[2022-05-31 19:32:52 +0200] [70228] [ERROR] Retrying in 1 second.\n",
      "[2022-05-31 19:32:53 +0200] [70228] [ERROR] Can't connect to ('127.0.0.1', 5000)\n",
      "Running the mlflow server failed. Please see the logs above for details.\n"
     ]
    }
   ],
   "source": [
    "# Launch MLflow UI to check experiment run\n",
    "!mlflow ui"
   ]
  },
  {
   "cell_type": "markdown",
   "id": "heavy-emperor",
   "metadata": {},
   "source": [
    "Answer: 17 parameters were automatically logged"
   ]
  },
  {
   "cell_type": "markdown",
   "id": "described-israeli",
   "metadata": {},
   "source": [
    "## Q4. Launch the tracking server locally\n",
    "\n",
    "We want to manage the entire lifecycle of our ML model. In this step, you'll need to launch a tracking server. This way we will also have access to the model registry. \n",
    "\n",
    "Your task is to\n",
    "\n",
    "* launch the tracking server on your local machine\n",
    "* select a SQLite db for the backend store and a folder called `artifacts` for the artifacts store\n",
    "\n",
    "You should keep the tracking server running to work on the next two exercises that use the server.\n",
    "\n",
    "In addition to `backend-store-uri`, what else do you need to pass to properly configure the server?"
   ]
  },
  {
   "cell_type": "code",
   "execution_count": 42,
   "id": "noticed-vehicle",
   "metadata": {},
   "outputs": [
    {
     "name": "stdout",
     "output_type": "stream",
     "text": [
      "Option 'default-artifact-root' is required when backend store is not local file based.\r\n",
      "Usage: mlflow server [OPTIONS]\r\n",
      "Try 'mlflow server --help' for help.\r\n",
      "\r\n",
      "Error: Option 'default-artifact-root' is required when backend store is not local file based.\r\n"
     ]
    }
   ],
   "source": [
    "# Run incomplete script to get error about required arg\n",
    "!mlflow server --backend-store-uri sqlite:///taxidb.sqlite"
   ]
  },
  {
   "cell_type": "markdown",
   "id": "august-depression",
   "metadata": {},
   "source": [
    "Running `mlflow server --backend-store-uri \"sqlite:///taxidb.sqlite\" --default-artifact-root \"artifacts\"` in terminal"
   ]
  },
  {
   "cell_type": "markdown",
   "id": "ancient-finish",
   "metadata": {},
   "source": [
    "## Q5. Tune the hyperparameters of the model\n",
    "\n",
    "Now let's try to reduce the validation error by tuning the hyperparameters of the random forest regressor using `hyperopt`.\n",
    "\n",
    "We have prepared the script `hpo.py` for this exercise. \n",
    "\n",
    "Your task is to modify the script `hpo.py` and make sure that the validation RMSE is logged to MLflow for each run of the hyperparameter optimization (you will need to add a few lines of code to the `objective` function) and run the script without passing any parameters.\n",
    "\n",
    "After that, open the MLflow UI and explore the runs from the experiment called `random-forest-hyperopt` to answer the question below.\n",
    "\n",
    "Important: don't use autologging for this exercise.\n",
    "\n",
    "The idea is to just log the information that you need to answer the question below, including:\n",
    "\n",
    "* the list of hyperparameters that are passed to the `objective` function during the optimization.\n",
    "* the RMSE obtained on the validation set (February 2021 data).\n",
    "\n",
    "What's the best validation RMSE that you got?"
   ]
  },
  {
   "cell_type": "code",
   "execution_count": 55,
   "id": "lucky-renewal",
   "metadata": {},
   "outputs": [
    {
     "name": "stdout",
     "output_type": "stream",
     "text": [
      "Traceback (most recent call last):\r\n",
      "  File \"/Applications/anaconda3/lib/python3.8/site-packages/mlflow/store/tracking/rest_store.py\", line 285, in get_experiment_by_name\r\n",
      "    response_proto = self._call_endpoint(GetExperimentByName, req_body)\r\n",
      "  File \"/Applications/anaconda3/lib/python3.8/site-packages/mlflow/store/tracking/rest_store.py\", line 56, in _call_endpoint\r\n",
      "    return call_endpoint(self.get_host_creds(), endpoint, method, json_body, response_proto)\r\n",
      "  File \"/Applications/anaconda3/lib/python3.8/site-packages/mlflow/utils/rest_utils.py\", line 256, in call_endpoint\r\n",
      "    response = verify_rest_response(response, endpoint)\r\n",
      "  File \"/Applications/anaconda3/lib/python3.8/site-packages/mlflow/utils/rest_utils.py\", line 185, in verify_rest_response\r\n",
      "    raise RestException(json.loads(response.text))\r\n",
      "mlflow.exceptions.RestException: BAD_REQUEST: (sqlite3.OperationalError) no such table: experiments\r\n",
      "[SQL: SELECT experiments.experiment_id AS experiments_experiment_id, experiments.name AS experiments_name, experiments.artifact_location AS experiments_artifact_location, experiments.lifecycle_stage AS experiments_lifecycle_stage \r\n",
      "FROM experiments \r\n",
      "WHERE experiments.name = ? AND experiments.lifecycle_stage IN (?, ?)]\r\n",
      "[parameters: ('random-forest-hyperopt', 'active', 'deleted')]\r\n",
      "(Background on this error at: https://sqlalche.me/e/14/e3q8)\r\n",
      "\r\n",
      "During handling of the above exception, another exception occurred:\r\n",
      "\r\n",
      "Traceback (most recent call last):\r\n",
      "  File \"hpo.py\", line 13, in <module>\r\n",
      "    mlflow.set_experiment(\"random-forest-hyperopt\")\r\n",
      "  File \"/Applications/anaconda3/lib/python3.8/site-packages/mlflow/tracking/fluent.py\", line 110, in set_experiment\r\n",
      "    experiment = client.get_experiment_by_name(experiment_name)\r\n",
      "  File \"/Applications/anaconda3/lib/python3.8/site-packages/mlflow/tracking/client.py\", line 462, in get_experiment_by_name\r\n",
      "    return self._tracking_client.get_experiment_by_name(name)\r\n",
      "  File \"/Applications/anaconda3/lib/python3.8/site-packages/mlflow/tracking/_tracking_service/client.py\", line 162, in get_experiment_by_name\r\n",
      "    return self.store.get_experiment_by_name(name)\r\n",
      "  File \"/Applications/anaconda3/lib/python3.8/site-packages/mlflow/store/tracking/rest_store.py\", line 297, in get_experiment_by_name\r\n",
      "    for experiment in self.list_experiments(ViewType.ALL):\r\n",
      "  File \"/Applications/anaconda3/lib/python3.8/site-packages/mlflow/store/tracking/rest_store.py\", line 77, in list_experiments\r\n",
      "    response_proto = self._call_endpoint(ListExperiments, req_body)\r\n",
      "  File \"/Applications/anaconda3/lib/python3.8/site-packages/mlflow/store/tracking/rest_store.py\", line 56, in _call_endpoint\r\n",
      "    return call_endpoint(self.get_host_creds(), endpoint, method, json_body, response_proto)\r\n",
      "  File \"/Applications/anaconda3/lib/python3.8/site-packages/mlflow/utils/rest_utils.py\", line 256, in call_endpoint\r\n",
      "    response = verify_rest_response(response, endpoint)\r\n",
      "  File \"/Applications/anaconda3/lib/python3.8/site-packages/mlflow/utils/rest_utils.py\", line 185, in verify_rest_response\r\n",
      "    raise RestException(json.loads(response.text))\r\n",
      "mlflow.exceptions.RestException: BAD_REQUEST: (sqlite3.OperationalError) no such table: experiments\r\n",
      "[SQL: SELECT experiments.experiment_id AS experiments_experiment_id, experiments.name AS experiments_name, experiments.artifact_location AS experiments_artifact_location, experiments.lifecycle_stage AS experiments_lifecycle_stage \r\n",
      "FROM experiments \r\n",
      "WHERE experiments.lifecycle_stage IN (?, ?)]\r\n",
      "[parameters: ('active', 'deleted')]\r\n",
      "(Background on this error at: https://sqlalche.me/e/14/e3q8)\r\n"
     ]
    }
   ],
   "source": [
    "!python hpo.py"
   ]
  },
  {
   "cell_type": "code",
   "execution_count": 49,
   "id": "recent-bracelet",
   "metadata": {},
   "outputs": [
    {
     "data": {
      "text/plain": [
       "6.6284257482044735"
      ]
     },
     "execution_count": 49,
     "metadata": {},
     "output_type": "execute_result"
    }
   ],
   "source": [
    "best_run = client.search_runs(\n",
    "  experiment_ids = 1, \n",
    "  run_view_type= mlflow.entities.ViewType.ACTIVE_ONLY,\n",
    "  max_results=1,\n",
    "  order_by=[\"metrics.rmse ASC\"]\n",
    ")[0]\n",
    "\n",
    "best_run.data.metrics['rmse']"
   ]
  },
  {
   "cell_type": "markdown",
   "id": "decimal-accounting",
   "metadata": {},
   "source": [
    "## Q6. Promote the best model to the model registry\n",
    "\n",
    "The results from the hyperparameter optimization are quite good so we can assume that we are ready to test some of these models in production. In this exercise, you'll promote the best model to the model registry. We have prepared a script called `register_model.py`, which will check the results from the previous step and select the top 5 runs. After that, it will calculate the RMSE of those models on the test set (March 2021 data) and save the results to a new experiment called `random-forest-best-models`.\n",
    "\n",
    "Your task is to update the script `register_model.py` so that it selects the model with the lowest RMSE on the test set and registers it to the model registry.\n",
    "\n",
    "Tip 1: you can use the method `search_runs` from the `MlflowClient` to get the model with the lowest RMSE.\n",
    "\n",
    "Tip 2: to register the model you can use the method `mlflow.register_model` and you will need to pass the right model_uri in the form of a string that looks like this: `\"runs:/<RUN_ID>/model\"`, and the name of the model (make sure to choose a good one!).\n",
    "\n",
    "What is the test RMSE of the best model?"
   ]
  },
  {
   "cell_type": "code",
   "execution_count": 52,
   "id": "civil-thesaurus",
   "metadata": {},
   "outputs": [
    {
     "name": "stdout",
     "output_type": "stream",
     "text": [
      "Received experiment random-forest-hyperopt\n",
      "No. of runs: 5\n",
      "Params of current run: {'max_depth': '19', 'min_samples_leaf': '3', 'min_samples_split': '5', 'n_estimators': '28', 'random_state': '42'}\n",
      "Loading pickles...\n",
      "Starting run...\n",
      "params: {'max_depth': '19', 'min_samples_leaf': '3', 'min_samples_split': '5', 'n_estimators': '28', 'random_state': '42'}\n",
      "Getting params...\n",
      "Initializing RFR...\n",
      "Fitting RFR...\n",
      "Params of current run: {}\n",
      "Loading pickles...\n",
      "Starting run...\n",
      "params: {}\n",
      "Getting params...\n",
      "================================================================================\n",
      "ERROR in rec_eval\n",
      "EXCEPTION <class 'AttributeError'> 'NoneType' object has no attribute 'uniform'\n",
      "NODE\n",
      "0 quniform\n",
      "1   Literal{10}\n",
      "2   Literal{50}\n",
      "3   Literal{1}\n",
      "================================================================================\n",
      "Traceback (most recent call last):\n",
      "  File \"register_model.py\", line 117, in <module>\n",
      "    run(args.data_path, args.top_n)\n",
      "  File \"register_model.py\", line 82, in run\n",
      "    train_and_log_model(data_path=data_path, params=run.data.params)\n",
      "  File \"register_model.py\", line 46, in train_and_log_model\n",
      "    params = space_eval(SPACE, params) # Why is params empty? --> No params were passed\n",
      "  File \"/Applications/anaconda3/lib/python3.8/site-packages/hyperopt/fmin.py\", line 618, in space_eval\n",
      "    rval = pyll.rec_eval(space, memo=memo)\n",
      "  File \"/Applications/anaconda3/lib/python3.8/site-packages/hyperopt/pyll/base.py\", line 902, in rec_eval\n",
      "    rval = scope._impls[node.name](*args, **kwargs)\n",
      "  File \"/Applications/anaconda3/lib/python3.8/site-packages/hyperopt/pyll/stochastic.py\", line 49, in quniform\n",
      "    draw = rng.uniform(low, high, size=size)\n",
      "AttributeError: 'NoneType' object has no attribute 'uniform'\n"
     ]
    }
   ],
   "source": [
    "!python register_model.py"
   ]
  },
  {
   "cell_type": "code",
   "execution_count": null,
   "id": "outside-dynamics",
   "metadata": {},
   "outputs": [],
   "source": []
  }
 ],
 "metadata": {
  "kernelspec": {
   "display_name": "Python 3",
   "language": "python",
   "name": "python3"
  },
  "language_info": {
   "codemirror_mode": {
    "name": "ipython",
    "version": 3
   },
   "file_extension": ".py",
   "mimetype": "text/x-python",
   "name": "python",
   "nbconvert_exporter": "python",
   "pygments_lexer": "ipython3",
   "version": "3.8.5"
  }
 },
 "nbformat": 4,
 "nbformat_minor": 5
}
